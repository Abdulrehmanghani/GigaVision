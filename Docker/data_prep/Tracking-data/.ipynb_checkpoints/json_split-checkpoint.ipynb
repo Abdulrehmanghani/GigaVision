{
 "cells": [
  {
   "cell_type": "code",
   "execution_count": 59,
   "id": "a35620fd",
   "metadata": {},
   "outputs": [],
   "source": [
    "import glob\n",
    "import cv2\n",
    "import pandas as pd\n",
    "import numpy\n",
    "import math\n",
    "import os\n",
    "import json\n",
    "  \n",
    "# Opening JSON file\n",
    "f = open('Tracking-data/instances_train2017_track.json')\n",
    "_list = glob.glob('Tracking-data/GigaTrainSamples/*.jpg')\n",
    "img_list = []\n",
    "for i in range(len(_list)):\n",
    "#     print(_list[i].split('\\\\')[1])\n",
    "    img_list.append(_list[i].split('\\\\')[1])\n",
    "# returns JSON object as \n",
    "# a dictionary\n",
    "# print(im_list)\n",
    "data = json.load(f)\n",
    "k = 0\n",
    "image_list= []\n",
    "ann_list=[]\n",
    "for i in range(len(data['images'])):\n",
    "    imge = data[\"images\"][i]['file_name']\n",
    "    \n",
    "    if imge  in img_list:\n",
    "        image_list.append(data[\"images\"][i])\n",
    "        ids = data[\"images\"][i]['id']\n",
    "        k = k+1\n",
    "\n",
    "        for j in range(len(data[\"annotations\"])):\n",
    "        # print(data[\"annotations\"][j]['image_id'])\n",
    "            if ids == data[\"annotations\"][j]['image_id']:\n",
    "#                 print(type(data[\"annotations\"][j]['bbox']),imge,data[\"annotations\"][j]['bbox'])\n",
    "                if data[\"annotations\"][j]['bbox'][0] < 0 or data[\"annotations\"][j]['bbox'][1] < 0 or data[\"annotations\"][j]['bbox'][2] < 0 or data[\"annotations\"][j]['bbox'][3] < 0:\n",
    "                    pass\n",
    "                else:\n",
    "                    ann_list.append(data[\"annotations\"][j])\n",
    "               \n",
    "       \n"
   ]
  },
  {
   "cell_type": "code",
   "execution_count": 57,
   "id": "1842ab56",
   "metadata": {},
   "outputs": [],
   "source": [
    "new ={}\n",
    "new['annotations'] = ann_list\n",
    "new['categories'] = data['categories']\n",
    "new['images'] = image_list\n",
    "new['info'] = data['categories']\n",
    "new['licenses'] = data['categories']"
   ]
  },
  {
   "cell_type": "code",
   "execution_count": 58,
   "id": "57ae498f",
   "metadata": {},
   "outputs": [],
   "source": [
    "with open('Tracking-data/instances_train2017_split_track.json', 'w') as json_file:\n",
    "    json.dump(new, json_file, sort_keys=True, indent=4)\n"
   ]
  },
  {
   "cell_type": "code",
   "execution_count": null,
   "id": "144c4c60",
   "metadata": {},
   "outputs": [],
   "source": []
  }
 ],
 "metadata": {
  "kernelspec": {
   "display_name": "Python 3 (ipykernel)",
   "language": "python",
   "name": "python3"
  },
  "language_info": {
   "codemirror_mode": {
    "name": "ipython",
    "version": 3
   },
   "file_extension": ".py",
   "mimetype": "text/x-python",
   "name": "python",
   "nbconvert_exporter": "python",
   "pygments_lexer": "ipython3",
   "version": "3.8.0"
  }
 },
 "nbformat": 4,
 "nbformat_minor": 5
}
