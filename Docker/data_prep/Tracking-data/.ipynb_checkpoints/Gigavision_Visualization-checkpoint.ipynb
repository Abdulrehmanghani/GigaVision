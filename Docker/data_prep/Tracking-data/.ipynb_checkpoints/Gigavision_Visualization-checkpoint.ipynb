{
 "cells": [
  {
   "cell_type": "markdown",
   "id": "45b494ac",
   "metadata": {},
   "source": [
    "# GigaVision MOT Challenge Data Understanding"
   ]
  },
  {
   "cell_type": "markdown",
   "id": "68bfdfdb",
   "metadata": {},
   "source": [
    "###### Training Data\n",
    "\n",
    "Training data has 10 parts. Each part has the following:\n",
    "1. Images: The number of images vary in different sequences.\n",
    "2. tracks.json: This file contains tracking IDs, frame numbers and BBOX information for its corresponding images.\n",
    "3. seqinfo.json: This file contains Image width and height, number and names of all images.\n",
    "\n",
    "###### Test Data\n",
    "\n",
    "Training data has 10 parts. Each part has the following:\n",
    "1. Images: The number of images vary in different sequences.\n",
    "2. seqinfo.json: This file contains Image width and height, number and names of all images."
   ]
  },
  {
   "cell_type": "code",
   "execution_count": 1,
   "id": "d1030ea3",
   "metadata": {},
   "outputs": [],
   "source": [
    "import os\n",
    "import json\n",
    "import glob\n",
    "import random\n",
    "\n",
    "import matplotlib.pyplot as plt\n",
    "import cv2\n",
    "\n",
    "%matplotlib inline\n",
    "plt.rcParams['figure.figsize'] = [16, 12]"
   ]
  },
  {
   "cell_type": "markdown",
   "id": "b6c853a3",
   "metadata": {},
   "source": [
    "## Setting Image and Annotations Paths"
   ]
  },
  {
   "cell_type": "code",
   "execution_count": 2,
   "id": "5bc3ee4e",
   "metadata": {},
   "outputs": [],
   "source": [
    "# Path of image directory\n",
    "train_img_1 = '01_University_Canteen'\n",
    "# Path of seqinfo.json directory\n",
    "train_seq_1 = '01_University_Canteen/seqinfo.json'\n",
    "# Path of track.json directory\n",
    "train_track_1 = '01_University_Canteen/tracks.json'"
   ]
  },
  {
   "cell_type": "markdown",
   "id": "f3503027",
   "metadata": {},
   "source": [
    "## Understanding seqinfo.json structure"
   ]
  },
  {
   "cell_type": "code",
   "execution_count": 3,
   "id": "6d84e13d",
   "metadata": {},
   "outputs": [],
   "source": [
    "with open(train_seq_1, 'r') as seq:\n",
    "    seqdict = json.load(seq)"
   ]
  },
  {
   "cell_type": "code",
   "execution_count": 4,
   "id": "bc38aec0",
   "metadata": {},
   "outputs": [
    {
     "data": {
      "text/plain": [
       "('01_University_Canteen', 234, 26753, 15052)"
      ]
     },
     "execution_count": 4,
     "metadata": {},
     "output_type": "execute_result"
    }
   ],
   "source": [
    "# Image names will be fetched for visualisations.\n",
    "#seqdict['imUrls']\n",
    "seqdict['name'], seqdict['seqLength'], seqdict['imWidth'], seqdict['imHeight']"
   ]
  },
  {
   "cell_type": "markdown",
   "id": "a9700181",
   "metadata": {},
   "source": [
    "seqinfo.json contains \n",
    "1. length of the sequence\n",
    "2. image width\n",
    "3. image height\n",
    "4. names of images in the sequence."
   ]
  },
  {
   "cell_type": "markdown",
   "id": "133790be",
   "metadata": {},
   "source": [
    "## Understanding tracks.json structure"
   ]
  },
  {
   "cell_type": "markdown",
   "id": "cd4a1029",
   "metadata": {},
   "source": [
    "***tracks.json contains list of IDs that are tracked across the frames. Tracked ID 0 for instance is detected across 3 different frames.***"
   ]
  },
  {
   "cell_type": "code",
   "execution_count": 5,
   "id": "95998c62",
   "metadata": {},
   "outputs": [
    {
     "name": "stdout",
     "output_type": "stream",
     "text": [
      "Total number of IDs:  295\n",
      "Number of frames ID:  0  has been detected in =  3\n"
     ]
    },
    {
     "data": {
      "text/plain": [
       "[{'frame id': 1,\n",
       "  'rect': {'tl': {'y': 0.9009288633, 'x': 0.042706294},\n",
       "   'br': {'y': 1.1332216286, 'x': 0.0951287881}},\n",
       "  'face orientation': 'back',\n",
       "  'occlusion': 'serious hide'},\n",
       " {'frame id': 2,\n",
       "  'rect': {'tl': {'y': 0.9479350491, 'x': 0.035569828},\n",
       "   'br': {'y': 1.1802278144, 'x': 0.0892516727}},\n",
       "  'face orientation': 'unsure',\n",
       "  'occlusion': 'disappear'},\n",
       " {'frame id': 3,\n",
       "  'rect': {'tl': {'y': 0.996433328, 'x': 0.0259146609},\n",
       "   'br': {'y': 1.2287260933, 'x': 0.0795965055}},\n",
       "  'face orientation': '',\n",
       "  'occlusion': ''}]"
      ]
     },
     "execution_count": 5,
     "metadata": {},
     "output_type": "execute_result"
    }
   ],
   "source": [
    "with open(train_track_1, 'r') as trck:\n",
    "    trckdict = json.load(trck)\n",
    "    \n",
    "# Number of total IDs in this particular scene.\n",
    "IDs = len(trckdict)\n",
    "print('Total number of IDs: ', IDs)\n",
    "# Looking at one ID of interest.\n",
    "ID = 0\n",
    "#trckdict[ID]\n",
    "# Number of frames this ID has been detected.\n",
    "idlen = len(trckdict[ID]['frames'])\n",
    "print('Number of frames ID: ',ID, ' has been detected in = ',idlen)\n",
    "trckdict[ID]['frames']"
   ]
  },
  {
   "cell_type": "code",
   "execution_count": null,
   "id": "ddab889f",
   "metadata": {},
   "outputs": [],
   "source": [
    "# Just recording syntax to extract needed information.\n",
    "'''\n",
    "for i in range(idlen):\n",
    "    \n",
    "    print(trckdict[ID]['frames'][i])\n",
    "    print(trckdict[ID]['frames'][i]['frame id'])\n",
    "    print(trckdict[ID]['frames'][i]['rect'])\n",
    "    print(trckdict[ID]['frames'][i]['rect']['tl'])\n",
    "    print(trckdict[ID]['frames'][i]['rect']['br'])\n",
    "    print('\\n')\n",
    "'''"
   ]
  },
  {
   "cell_type": "markdown",
   "id": "3562f7c0",
   "metadata": {},
   "source": [
    "## Visualizations"
   ]
  },
  {
   "cell_type": "markdown",
   "id": "8072772b",
   "metadata": {},
   "source": [
    "Helper functions borrowed from https://github.com/GigaVision/PANDA-Toolkit"
   ]
  },
  {
   "cell_type": "code",
   "execution_count": null,
   "id": "0a1023bd",
   "metadata": {},
   "outputs": [],
   "source": [
    "def restrain_between_0_1(values_list):\n",
    "    return_list = []\n",
    "    for value in values_list:\n",
    "        if value < 0:\n",
    "            new_value = 0\n",
    "        elif value > 1:\n",
    "            new_value = 1\n",
    "        else:\n",
    "            new_value = value\n",
    "        return_list.append(new_value)\n",
    "\n",
    "    return return_list"
   ]
  },
  {
   "cell_type": "code",
   "execution_count": null,
   "id": "6d0b7611",
   "metadata": {},
   "outputs": [],
   "source": [
    "#showwidth=1280\n",
    "#imgwidth=seqdict['imWidth']\n",
    "#imgheight=seqdict['imHeight']\n",
    "#scale = showwidth / imgwidth\n",
    "\n",
    "def RectDict2List(rectdict, imgwidth=1280, imgheight=720, scale = 1, mode='tlbr'):\n",
    "    x1, y1, x2, y2 = restrain_between_0_1([rectdict['tl']['x'], rectdict['tl']['y'],\n",
    "                                           rectdict['br']['x'], rectdict['br']['y']])\n",
    "    xmin = int(x1 * imgwidth * scale)\n",
    "    ymin = int(y1 * imgheight * scale)\n",
    "    xmax = int(x2 * imgwidth * scale)\n",
    "    ymax = int(y2 * imgheight * scale)\n",
    "\n",
    "    if mode == 'tlbr':\n",
    "        return xmin, ymin, xmax, ymax\n",
    "    elif mode == 'tlwh':\n",
    "        return xmin, ymin, xmax - xmin, ymax - ymin"
   ]
  },
  {
   "cell_type": "code",
   "execution_count": null,
   "id": "ed9e2f71",
   "metadata": {},
   "outputs": [],
   "source": [
    "def loadImg(showwidth=1280, rect=None, scale=1, imgpath=''):\n",
    "    \"\"\"\n",
    "    :param imgpath: the path of image to load\n",
    "    :return: loaded img object\n",
    "    \"\"\"\n",
    "    print('filename:', imgpath)\n",
    "    if not os.path.exists(imgpath):\n",
    "        print('Can not find {}, please check local dataset!'.format(imgpath))\n",
    "        return None\n",
    "    \n",
    "    img = cv2.imread(imgpath, cv2.IMREAD_UNCHANGED)\n",
    "    imgheight, imgwidth = img.shape[:2]\n",
    "    print('height: ',imgheight,' width ', imgwidth)\n",
    "    scale = scale\n",
    "    img = cv2.resize(img, (int(imgwidth * scale), int(imgheight * scale)))\n",
    "    img = cv2.cvtColor(img, cv2.COLOR_BGR2RGB)\n",
    "    \n",
    "    xmin, ymin, xmax, ymax = rect\n",
    "    cv2.rectangle(img, (xmin, ymin), (xmax, ymax), (0, 0, 255), 1)\n",
    "    cv2.line(img, (xmin, ymin), (xmax, ymax), (0, 0, 255), 1)\n",
    "    cv2.line(img, (xmin, ymax), (xmax, ymin), (0, 0, 255), 1)    \n",
    "\n",
    "    return img"
   ]
  },
  {
   "cell_type": "markdown",
   "id": "876234b8",
   "metadata": {},
   "source": [
    "### Visualization using a given Track ID\n",
    "\n",
    "The function below takes any ID in the sequence and displays all frames where that ID is present."
   ]
  },
  {
   "cell_type": "code",
   "execution_count": null,
   "id": "a95c9064",
   "metadata": {},
   "outputs": [],
   "source": [
    "def vis_frame_with_trackID(imgdir=train_img_1, seqdict=seqdict, trckdict=trckdict, ID=0):\n",
    "    \n",
    "    \"\"\"\n",
    "    Function to visualize images and annotations given a target ID.\n",
    "    \n",
    "    param imgdir: image sequence directory\n",
    "    param seqdict: seqinfo.json dict\n",
    "    param trckdict: track.json\n",
    "    \n",
    "    \"\"\"\n",
    "    dispwidth = 1280\n",
    "    scaler = dispwidth / seqdict['imWidth']\n",
    "    idlen = len(trckdict[ID]['frames'])\n",
    "    \n",
    "\n",
    "\n",
    "    # This is to iterate over frames where ID is detected.\n",
    "    for i in range(idlen):      \n",
    "        # To iterate over sequence to find corresponding image names.\n",
    "        for j in range(len(seqdict['imUrls'])):\n",
    "            # Just matching ID frame indexes to sequence indexes.\n",
    "            if trckdict[ID]['frames'][i]['frame id'] == int(seqdict['imUrls'][j][7:-4]):\n",
    "                # All that to compute image path:D\n",
    "                imgname = seqdict['imUrls'][j]            \n",
    "                path = os.path.join(imgdir, imgname)\n",
    "                # Fetch corresponding track.\n",
    "                rectdict = trckdict[ID]['frames'][i]['rect']\n",
    "                # Transform scale.\n",
    "                rect = RectDict2List(rectdict, imgwidth=seqdict['imWidth'], \n",
    "                                     imgheight=seqdict['imHeight'], scale = scaler, mode='tlbr')\n",
    "                # Get scaled and annotated visualization.\n",
    "                image = loadImg(showwidth=dispwidth, rect=rect, scale=scaler,imgpath=path)\n",
    "                # Display annotations.\n",
    "                plt.imshow(image)\n",
    "                plt.show()\n",
    "\n"
   ]
  },
  {
   "cell_type": "markdown",
   "id": "573921f2",
   "metadata": {},
   "source": [
    "##### Example Tracking ID 1"
   ]
  },
  {
   "cell_type": "code",
   "execution_count": null,
   "id": "c0f392b3",
   "metadata": {},
   "outputs": [],
   "source": [
    "# track id in track.json starts from 1 while with 0 in python.\n",
    "trackid = 1 # Starts with 1. Min value 1.\n",
    "ID = trackid - 1\n",
    "vis_frame_with_trackID(imgdir=train_img_1, seqdict=seqdict, trckdict=trckdict, ID=ID)\n"
   ]
  },
  {
   "cell_type": "markdown",
   "id": "ddfc79cf",
   "metadata": {},
   "source": [
    "##### Example Tracking ID 2"
   ]
  },
  {
   "cell_type": "code",
   "execution_count": null,
   "id": "acfa4976",
   "metadata": {},
   "outputs": [],
   "source": [
    "# track id in track.json starts from 1 while with 0 in python.\n",
    "trackid = 2 # Starts with 1. Min value 1.\n",
    "ID = trackid - 1\n",
    "vis_frame_with_trackID(imgdir=train_img_1, seqdict=seqdict, trckdict=trckdict, ID=ID)\n"
   ]
  },
  {
   "cell_type": "markdown",
   "id": "e1dc0bbc",
   "metadata": {},
   "source": [
    "### Visualizing all annotations on a given frame\n",
    "\n",
    "Now we also want to see all annotations given any single frame. "
   ]
  },
  {
   "cell_type": "code",
   "execution_count": null,
   "id": "243b756b",
   "metadata": {},
   "outputs": [],
   "source": [
    "def draw_all_annos(showwidth=1280, frame_bbx=None, scale=1, imgpath=''):\n",
    "    \"\"\"\n",
    "    param imgpath: the path of image to load\n",
    "    param frame_bbx: List of all bounding boxes for a given frame.\n",
    "    return: loaded img object\n",
    "    \"\"\"\n",
    "    print('filename:', imgpath)\n",
    "    if not os.path.exists(imgpath):\n",
    "        print('Can not find {}, please check local dataset!'.format(imgpath))\n",
    "        return None\n",
    "    img = cv2.imread(imgpath, cv2.IMREAD_UNCHANGED)\n",
    "    imgheight, imgwidth = img.shape[:2]\n",
    "    scale = scale\n",
    "    img = cv2.resize(img, (int(imgwidth * scale), int(imgheight * scale)))\n",
    "    img = cv2.cvtColor(img, cv2.COLOR_BGR2RGB)\n",
    "    \n",
    "    for box in range(len(frame_bbx)):\n",
    "        # Fetch corresponding track.\n",
    "        rectdict = frame_bbx[box]\n",
    "        # Transform scale.\n",
    "        rect = RectDict2List(rectdict, imgwidth=imgwidth, imgheight=imgheight, scale=scale, mode='tlbr')\n",
    "    \n",
    "        xmin, ymin, xmax, ymax = rect\n",
    "        cv2.rectangle(img, (xmin, ymin), (xmax, ymax), (0, 0, 255), 1)\n",
    "        cv2.line(img, (xmin, ymin), (xmax, ymax), (0, 0, 255), 1)\n",
    "        cv2.line(img, (xmin, ymax), (xmax, ymin), (0, 0, 255), 1)    \n",
    "\n",
    "    return img"
   ]
  },
  {
   "cell_type": "code",
   "execution_count": null,
   "id": "e6d652c8",
   "metadata": {},
   "outputs": [],
   "source": [
    "def vis_frame_all_annos(imgdir=train_img_1, seqdict=seqdict, trckdict=trckdict, frame_num=1, display=True):\n",
    "    \n",
    "    \"\"\"\n",
    "    Function to visualize all annotations of a single image.\n",
    "    \n",
    "    param imgdir: image sequence directory\n",
    "    param seqdict: seqinfo.json dict\n",
    "    param trckdict: track.json\n",
    "    param frame_num: frame to visualize\n",
    "    \"\"\"\n",
    "    # Total number of IDs tracked in the sequence. \n",
    "    # Need to see this since annotations are structured that way.\n",
    "    IDs = len(trckdict)\n",
    "    \n",
    "    dispwidth = 1280\n",
    "    scaler = dispwidth / seqdict['imWidth']\n",
    "    \n",
    "    frame_no = frame_num\n",
    "    frame_bbx = []\n",
    "    \n",
    "    # Here we find all annotations for a given frame.\n",
    "    # First we iterate over all IDs. Then see if our frame is present in this ID.\n",
    "    # Wherever we find our frame, we record all corresponding annotations. \n",
    "\n",
    "    for i in range(IDs):\n",
    "        ID_len = len(trckdict[i]['frames'])\n",
    "        #print('Tracking ID number ',i+1, 'appears in ', ID_len, 'frames')\n",
    "        for j in range(ID_len):\n",
    "            if frame_no == trckdict[i]['frames'][j]['frame id']:\n",
    "                frame_bbx.append(trckdict[i]['frames'][j]['rect'])    \n",
    "                \n",
    "    # Compute image name\n",
    "    imgname = seqdict['imUrls'][frame_no-1]\n",
    "    path = os.path.join(imgdir, imgname)\n",
    "    \n",
    "    # Draw all annotations\n",
    "    image = draw_all_annos(showwidth=dispwidth, frame_bbx=frame_bbx, scale=scaler, imgpath=path)\n",
    "    \n",
    "    if display:\n",
    "        # Display results\n",
    "        plt.imshow(image)\n",
    "        plt.show()\n",
    "    \n",
    "    return image"
   ]
  },
  {
   "cell_type": "code",
   "execution_count": null,
   "id": "a2497bf2",
   "metadata": {},
   "outputs": [],
   "source": [
    "image = vis_frame_all_annos(imgdir=train_img_1, seqdict=seqdict, trckdict=trckdict, frame_num=20, display=True)"
   ]
  },
  {
   "cell_type": "code",
   "execution_count": null,
   "id": "1e77b576",
   "metadata": {},
   "outputs": [],
   "source": [
    "image = vis_frame_all_annos(imgdir=train_img_1, seqdict=seqdict, trckdict=trckdict, frame_num=40, display=True)"
   ]
  },
  {
   "cell_type": "code",
   "execution_count": null,
   "id": "259687d7",
   "metadata": {},
   "outputs": [],
   "source": [
    "image = vis_frame_all_annos(imgdir=train_img_1, seqdict=seqdict, trckdict=trckdict, frame_num=60, display=True)"
   ]
  },
  {
   "cell_type": "markdown",
   "id": "59a12347",
   "metadata": {},
   "source": [
    "Some annotations look weird and out of place but that might be because of huge scaling down."
   ]
  },
  {
   "cell_type": "markdown",
   "id": "e5311ad0",
   "metadata": {},
   "source": [
    "### Write images with annotations to disk.\n",
    "\n",
    "The code below is for writing a downscaled version of GigaVision MOT dataset for visualization."
   ]
  },
  {
   "cell_type": "code",
   "execution_count": null,
   "id": "a98a5757",
   "metadata": {},
   "outputs": [],
   "source": [
    "# Path of image directory\n",
    "train_img = '/home/sdki/Downloads/PANDA/train_part10/10_Huaqiangbei'\n",
    "# Path of seqinfo.json directory\n",
    "train_seq = '/home/sdki/Downloads/PANDA/train_annos/10_Huaqiangbei/seqinfo.json'\n",
    "# Path of track.json directory\n",
    "train_track = '/home/sdki/Downloads/PANDA/train_annos/10_Huaqiangbei/tracks.json'\n",
    "\n",
    "with open(train_seq, 'r') as seq:\n",
    "    seqdict = json.load(seq)\n",
    "    \n",
    "with open(train_track, 'r') as trck:\n",
    "    trckdict = json.load(trck)"
   ]
  },
  {
   "cell_type": "code",
   "execution_count": null,
   "id": "73bed849",
   "metadata": {},
   "outputs": [],
   "source": [
    "seqdict['name'], seqdict['seqLength'], seqdict['imWidth'], seqdict['imHeight']"
   ]
  },
  {
   "cell_type": "code",
   "execution_count": null,
   "id": "de27c45f",
   "metadata": {},
   "outputs": [],
   "source": [
    "IDs = len(trckdict)\n",
    "print('Total number of IDs: ', IDs)"
   ]
  },
  {
   "cell_type": "code",
   "execution_count": null,
   "id": "b9059c21",
   "metadata": {},
   "outputs": [],
   "source": [
    "basepth = os.path.split(train_img)[0]\n",
    "datapth = os.path.split(train_img)[1]\n",
    "# Create a new directory for resized annotations.\n",
    "outpth = os.path.join(basepth, datapth + '_R')    \n",
    "try:\n",
    "    os.mkdir(outpth)\n",
    "except:\n",
    "    pass"
   ]
  },
  {
   "cell_type": "code",
   "execution_count": null,
   "id": "b61e356d",
   "metadata": {},
   "outputs": [],
   "source": [
    "for imgname in seqdict['imUrls']:    \n",
    "    # Write\n",
    "    writepth = os.path.join(outpth,imgname)    \n",
    "    # Resize image, rescale annotations and get the annotated visualisation.\n",
    "    img = vis_frame_all_annos(imgdir=train_img, seqdict=seqdict, trckdict=trckdict, frame_num=int(imgname[7:-4]),display=False)\n",
    "    img = cv2.cvtColor(img, cv2.COLOR_RGB2BGR)\n",
    "    cv2.imwrite(writepth, img)"
   ]
  },
  {
   "cell_type": "code",
   "execution_count": null,
   "id": "f57017df",
   "metadata": {},
   "outputs": [],
   "source": []
  }
 ],
 "metadata": {
  "kernelspec": {
   "display_name": "Python 3 (ipykernel)",
   "language": "python",
   "name": "python3"
  },
  "language_info": {
   "codemirror_mode": {
    "name": "ipython",
    "version": 3
   },
   "file_extension": ".py",
   "mimetype": "text/x-python",
   "name": "python",
   "nbconvert_exporter": "python",
   "pygments_lexer": "ipython3",
   "version": "3.10.8"
  }
 },
 "nbformat": 4,
 "nbformat_minor": 5
}
