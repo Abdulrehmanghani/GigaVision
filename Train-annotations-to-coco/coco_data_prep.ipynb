{
 "cells": [
  {
   "cell_type": "markdown",
   "id": "262e2186",
   "metadata": {},
   "source": [
    "# Giga detection dataset"
   ]
  },
  {
   "cell_type": "markdown",
   "id": "e4a150f4",
   "metadata": {},
   "source": [
    "## Person annotaion from giga detection dataset "
   ]
  },
  {
   "cell_type": "code",
   "execution_count": 3,
   "id": "38fe145a",
   "metadata": {},
   "outputs": [],
   "source": [
    "import json\n",

    "import pandas as pd ",
    "import pandas as pd \n",
    "# Opening JSON file\n",
    "f = open('training data/gigadetectannos/person_bbox_train.json')\n",
    "data = json.load(f)"

   ]
  },
  {
   "cell_type": "code",
   "execution_count": 4,
   "id": "e21b1f72",
   "metadata": {},
   "outputs": [],
   "source": [
   "# Opening JSON file of the person training annos\n",
    "f = open('gigadetectannos/person_bbox_train.json')\n",
    "person_data = json.load(f)"
   ]
  },
  {
   "cell_type": "markdown",
   "id": "48d1ddf5",
   "metadata": {},
   "source": [
    "The data in human location file consists of multiple nested dictionaries."
   ]
  },
  {
   "cell_type": "markdown",
   "id": "fc1e8522",
   "metadata": {},
   "source": [
    "\n",
    "| Dictionary | Column | Type | Description |\n",
    "| --- | --- | --- |  --- |\n",
    "| image_dict | image id | int | Image Index |\n",
    "| | image size | image_size | Image Shape |\n",
    "| | object list| [object_dict] | Dictionary of each person |\n",
    "| image_size | height | int | Image hight in pixel |\n",
    "| | width | int | Image wigth in pixel | \n"
   ]
  },
  {
   "cell_type": "markdown",
   "id": "aa471dff",
   "metadata": {},
   "source": [
    "\"category\" is the key that determines whether the object box is a pedestrian or a special area that needs to be ignored. There are four types of object category: “person”, “fake person”, “ignore” and “crowd” . The type “person” represents a person object in normal situation. The types “fake person”, “ignore”, “crowd” represent three special situations respectively: reflection or shadow area, heavily occluded, extremely dense crowd. These three special situations will be ignored in evaluation.\n",
    "\n",
    "(i) The data format of object_dict whose category is “person” :"
   ]
  },
  {
   "cell_type": "markdown",
   "id": "30aa6251",
   "metadata": {},
   "source": [
    "\n",
    "| Dictionary | Column | Type | Description |\n",
    "| --- | --- | --- |  --- |\n",
    "| object_dict (person) | category | \"person\"| Object category |\n",
    "| | pose | \"standing\" or \"walking\" or \"sitting\" or \"riding\" or \"held\" (a baby in the arms) or \"unsure\" |Person pose |\n",
    "| | riding type| \"bicycle rider\" or \"motorcycle rider\" or \"tricycle rider\" or \"null\" (when \"pose\" is not \"riding\") | Is the person riding and the type of vehicle he/she is riding |\n",
    "| | age| \"adult\" or \"child\" or \"unsure\" | Person age |\n",
    "| | rects| [rect_dict1] (see format in the following table) | Person bounding-box |"
   ]
  },
  {
   "cell_type": "markdown",
   "id": "387aeb74",
   "metadata": {},
   "source": [
    "The format of rect_dict1："
   ]
  },
  {
   "cell_type": "markdown",
   "id": "3ce6b7ea",
   "metadata": {},
   "source": [
    "| Dictionary | Column | Type | Description |\n",
    "| --- | --- | --- |  --- |\n",
    "| rect_dict1 | full body | [rect_dict2] (see format in the following table)| The bounding-box of full body |"
   ]
  },
  {
   "cell_type": "markdown",
   "id": "108b46b4",
   "metadata": {},
   "source": [
    "The format of rect_dict2："
   ]
  },
  {
   "cell_type": "markdown",
   "id": "a2f4a6c9",
   "metadata": {},
   "source": [
    "|  |  |  |  | |\n",
    "| --- | --- | --- |  --- | --- |\n",
    "| rect_dict2 | tl | x | float | Top-left position of bounding box|\n",
    "|  |  | y | float | |\n",
    "|  | br | x | float | Bottom-right position of bounding box|\n",
    "|  |  | y | float | |\n"
   ]
  },
  {
   "cell_type": "markdown",
   "id": "25747a18",
   "metadata": {},
   "source": [
    "\"x\" and \"y\" are floating point numbers between 0 and 1, representing the ratio of the coordinates to the width and height of the image, respectively.\n",
    "\n",
    "(ii) The data format of object_dict whose category is “fake person”，“ignore” or “crowd”:"
   ]
  },
  {
   "cell_type": "markdown",
   "id": "b4c90b4d",
   "metadata": {},
   "source": [
    "| Dictionary | Column | Type | Description |\n",
    "| --- | --- | --- |  --- |\n",
    "| object_dict (ignore/fake/crowd) | category | \"ignore\" (someone who is heavily occluded) or \"fake person\" or \"crowd\" (extremely dense crowd) | Object category |\n",
    "| | rect | [rect_dict2] (see format in the following table) | Object position in bounding-box |",
    "# Opening JSON file\n",
    "f1 = open('training data/gigadetectannos/vehicle_bbox_train.json')\n",
    "data1 = json.load(f1)  "
   ]
  },
  {
   "cell_type": "code",
   "execution_count": 5,
   "id": "04300cf5",
   "metadata": {},
   "outputs": [],
   "source": [
    "# Create the list of person_data with onle using class person and all others are ignored\n",
    "csv_list =[]\n",
    "for x in person_data:           \n",
    "    for i in range(len(person_data[x]['objects list'])):       \n",
    "        if person_data[x]['objects list'][i]['category'] == 'person':\n",
    "            # Required person_data for the coco person_dataset format\n",
    "            csv_dict={}\n",
    "            csv_dict['Frame_Number']=x.split('/')[1]\n",
    "            csv_dict['image id']=person_data[x]['image id']\n",
    "            csv_dict['width']=person_data[x]['image size']['width']\n",
    "            csv_dict['height']=person_data[x]['image size']['height']\n",
    "            csv_dict['Class']=person_data[x]['objects list'][i]['category']\n",
    "            csv_dict['xmin']=person_data[x]['objects list'][i]['rects']['full body']['tl']['x']\n",
    "            csv_dict['ymin']=person_data[x]['objects list'][i]['rects']['full body']['tl']['y']\n",
    "            csv_dict['xmax']=person_data[x]['objects list'][i]['rects']['full body']['br']['x']\n",
    "            csv_dict['ymax']=person_data[x]['objects list'][i]['rects']['full body']['br']['y']\n",
    "            csv_list.append(csv_dict)\n",
    "        else:\n",
    "            pass"
   ]
  },
  {
   "cell_type": "code",
   "execution_count": 6,
   "id": "4bbd62b8",
   "metadata": {},
   "outputs": [],
   "source": [
    "# Save person training data csv\n",
    "person_data=pd.DataFrame(csv_list)\n",
    "person_data.to_csv('Selctivet_person_train_data.csv',index=False)"
   ]
  },
  {
   "cell_type": "markdown",
   "id": "eaac03c6",
   "metadata": {},
   "source": [
    "## Vehicle annotaions from the giga detection dataset"
   ]
  },
  {
   "cell_type": "markdown",
   "id": "ca0e8172",
   "metadata": {},
   "source": [
    "The format of object_dict:"
   ]
  },
  {
   "cell_type": "markdown",
   "id": "30599db1",
   "metadata": {},
   "source": [
    "\n",
    "| Dictionary | Column | Type | Description |\n",
    "| --- | --- | --- |  --- |\n",
    "| object_dict  | category | \"small car\" or \"midsize car\" or \"large car\" or \"bicycle\" or \"motorcycle\" or \"tricycle\" or \"electric car\" or \"baby carriage\" or \"vehicles\" or \"unsure\"| Object category |\n",
    "| | rect | rect_dict2 | Object position in bounding-box |"
   ]
  },
  {
   "cell_type": "markdown",
   "id": "7486f3d4",
   "metadata": {},
   "source": [
    "**vehicles** refers to a dense vehicle group and should be ignored. **small car, midsize car and large car** belong to motor vehicles with four or more wheels and are distinguished by vehicle size. \"electric car\" refers to an electric sightseeing car or patrol car, etc. \"unsure\" refers to a vehicle with unsure type.\n",
    "The types**fake, ignore, vehicles** represent three special situations respectively: reflection or shadow area, heavily occluded, extremely dense vehicles. These three special situations will be ignored in evaluation.\n",
    "\"x\" and \"y\" are floating point numbers between 0 and 1, representing the ratio of the coordinates to the width and height of the image, respectively."
   ]
  },
  {
   "cell_type": "code",
   "execution_count": 7,
   "id": "0739684a",
   "metadata": {},
   "outputs": [],
   "source": [
    "# Opening JSON file of vehicles annos\n",
    "f1 = open('gigadetectannos/vehicle_bbox_train.json')\n",
    "vehicle_data = json.load(f1)  "
   ]
  },
  {
   "cell_type": "code",
   "execution_count": 8,
   "id": "09f0f82a",
   "metadata": {},
   "outputs": [],
   "source": [
    "csv_list =[]\n",
    "for x in vehicle_data:          \n",
    "    for i in range(len(vehicle_data[x]['objects list'])):\n",
    "        if vehicle_data[x]['objects list'][i]['category'] == \"vehicles\" or vehicle_data[x]['objects list'][i]['category'] == \"fake\" or vehicle_data[x]['objects list'][i]['category'] == \"unsure\" or  vehicle_data[x]['objects list'][i]['category'] == \"ignore\":\n",
    "            pass\n",
    "        else:            \n",
    "            csv_dict={}\n",
    "            csv_dict['Frame_Number']=x.split('/')[1]\n",
    "            csv_dict['image id']=vehicle_data[x]['image id']\n",
    "            csv_dict['width']=vehicle_data[x]['image size']['width']\n",
    "            csv_dict['height']=vehicle_data[x]['image size']['height']\n",
    "            csv_dict['Class']=vehicle_data[x]['objects list'][i]['category']\n",
    "            csv_dict['xmin']=vehicle_data[x]['objects list'][i]['rect']['tl']['x']\n",
    "            csv_dict['ymin']=vehicle_data[x]['objects list'][i]['rect']['tl']['y']\n",
    "            csv_dict['xmax']=vehicle_data[x]['objects list'][i]['rect']['br']['x']\n",
    "            csv_dict['ymax']=vehicle_data[x]['objects list'][i]['rect']['br']['y']\n",
    "            csv_list.append(csv_dict)"
   ]
  },
  {
   "cell_type": "code",
   "execution_count": 9,
   "id": "16152085",
   "metadata": {},
   "outputs": [],
   "source": [
    "#Save vehicle training data csv\n",
    "vehicel_data=pd.DataFrame(csv_list)\n",
    "vehicel_data.to_csv('selctive_vehicle_train_data.csv',index=False)"
   ]
  },
  {
   "cell_type": "markdown",
   "id": "bf2f85e8",
   "metadata": {},
   "source": [
    "## Combining Person and vehicle annotaion training csv "
   ]
  },
  {
   "cell_type": "code",
   "execution_count": 10,
   "id": "7ba5cc0f",
   "metadata": {},
   "outputs": [],
   "source": [
    "data = [person_data,vehicel_data]"
   ]
  },
  {
   "cell_type": "code",
   "execution_count": 11,
   "id": "7dfc3035",
   "metadata": {},
   "outputs": [],
   "source": [
    "combined_data = pd.concat(data)"
   ]
  },
  {
   "cell_type": "code",
   "execution_count": 12,
   "id": "be40d8bf",
   "metadata": {},
   "outputs": [],
   "source": [
    "combined_data.to_csv('Selective_combined_training_data.csv',index=False)"
   ]
  },
  {
   "cell_type": "markdown",
   "id": "b5218709",
   "metadata": {},
   "source": [
    "## Next work "
   ]
  },
  {
   "cell_type": "markdown",
   "id": "014e47ce",
   "metadata": {},
   "source": [
    "To convert the annotaion csv to to coco format json the the **csv_tojson.py** file"
   ]
  },
  {
   "cell_type": "code",
   "execution_count": null,
   "id": "15a596e3",
   "metadata": {},
   "outputs": [],
   "source": []
  }
 ],
 "metadata": {
  "kernelspec": {
   "display_name": "Python 3 (ipykernel)",
   "language": "python",
   "name": "python3"
  },
  "language_info": {
   "codemirror_mode": {
    "name": "ipython",
    "version": 3
   },
   "file_extension": ".py",
   "mimetype": "text/x-python",
   "name": "python",
   "nbconvert_exporter": "python",
   "pygments_lexer": "ipython3",
   "version": "3.8.0"
  }
 },
 "nbformat": 4,
 "nbformat_minor": 5
}
