{
 "cells": [
  {
   "cell_type": "code",
   "execution_count": 4,
   "id": "38fe145a",
   "metadata": {},
   "outputs": [],
   "source": [
    "import json\n",
    "import pandas as pd \n",
    "# Opening JSON file\n",
    "f = open('training data\\gigadetectannos\\person_bbox_train.json')\n",
    "data = json.load(f)"
   ]
  },
  {
   "cell_type": "code",
   "execution_count": 5,
   "id": "e21b1f72",
   "metadata": {},
   "outputs": [],
   "source": [
    "# Opening JSON file\n",
    "f1 = open('training data\\\\gigadetectannos\\\\vehicle_bbox_train.json')\n",
    "data1 = json.load(f1)  "
   ]
  },
  {
   "cell_type": "code",
   "execution_count": 6,
   "id": "04300cf5",
   "metadata": {},
   "outputs": [],
   "source": [
    "csv_list =[]\n",
    "for x in data:           \n",
    "    for i in range(len(data[x]['objects list'])):       \n",
    "        if data[x]['objects list'][i]['category'] == 'person':\n",
    "            csv_dict={}\n",
    "            csv_dict['Frame_Number']=x.split('/')[1]\n",
    "            csv_dict['image id']=data[x]['image id']\n",
    "            csv_dict['width']=data[x]['image size']['width']\n",
    "            csv_dict['height']=data[x]['image size']['height']\n",
    "            csv_dict['Class']=data[x]['objects list'][i]['category']\n",
    "            csv_dict['xmin']=data[x]['objects list'][i]['rects']['full body']['tl']['x']\n",
    "            csv_dict['ymin']=data[x]['objects list'][i]['rects']['full body']['tl']['y']\n",
    "            csv_dict['xmax']=data[x]['objects list'][i]['rects']['full body']['br']['x']\n",
    "            csv_dict['ymax']=data[x]['objects list'][i]['rects']['full body']['br']['y']\n",
    "            csv_list.append(csv_dict)\n",
    "        else:\n",
    "            pass"
   ]
  },
  {
   "cell_type": "code",
   "execution_count": 7,
   "id": "4bbd62b8",
   "metadata": {},
   "outputs": [],
   "source": [
    "csv_list=pd.DataFrame(csv_list)\n",
    "csv_list.to_csv('training_person.csv',index=False)"
   ]
  },
  {
   "cell_type": "code",
   "execution_count": 8,
   "id": "09f0f82a",
   "metadata": {},
   "outputs": [],
   "source": [
    "csv_list =[]\n",
    "for x in data1:          \n",
    "    for i in range(len(data1[x]['objects list'])):\n",
    "        if data1[x]['objects list'][i]['category'] == \"vehicles\" or data1[x]['objects list'][i]['category'] == \"fake\" or data1[x]['objects list'][i]['category'] == \"unsure\" or  data1[x]['objects list'][i]['category'] == \"ignore\":\n",
    "            pass\n",
    "        else:            \n",
    "            csv_dict={}\n",
    "            csv_dict['Frame_Number']=x.split('/')[1]\n",
    "            csv_dict['image id']=data1[x]['image id']\n",
    "            csv_dict['width']=data1[x]['image size']['width']\n",
    "            csv_dict['height']=data1[x]['image size']['height']\n",
    "            csv_dict['Class']=data1[x]['objects list'][i]['category']\n",
    "            csv_dict['xmin']=data1[x]['objects list'][i]['rect']['tl']['x']\n",
    "            csv_dict['ymin']=data1[x]['objects list'][i]['rect']['tl']['y']\n",
    "            csv_dict['xmax']=data1[x]['objects list'][i]['rect']['br']['x']\n",
    "            csv_dict['ymax']=data1[x]['objects list'][i]['rect']['br']['y']\n",
    "            csv_list.append(csv_dict)"
   ]
  },
  {
   "cell_type": "code",
   "execution_count": 9,
   "id": "16152085",
   "metadata": {},
   "outputs": [],
   "source": [
    "csv_list=pd.DataFrame(csv_list)\n",
    "csv_list.to_csv('training_vehicle.csv',index=False)"
   ]
  },
  {
   "cell_type": "code",
   "execution_count": 10,
   "id": "9e1b47e5",
   "metadata": {},
   "outputs": [],
   "source": [
    "df1 = pd.read_csv('training_vehicle.csv')\n",
    "df2 = pd.read_csv('training_person.csv')"
   ]
  },
  {
   "cell_type": "code",
   "execution_count": 11,
   "id": "7ba5cc0f",
   "metadata": {},
   "outputs": [],
   "source": [
    "frame = [df1,df2]"
   ]
  },
  {
   "cell_type": "code",
   "execution_count": 12,
   "id": "7dfc3035",
   "metadata": {},
   "outputs": [],
   "source": [
    "result = pd.concat(frame)"
   ]
  },
  {
   "cell_type": "code",
   "execution_count": 13,
   "id": "be40d8bf",
   "metadata": {},
   "outputs": [],
   "source": [
    "result.to_csv('training_data.csv',index=False)"
   ]
  },
  {
   "cell_type": "code",
   "execution_count": null,
   "id": "b9bbfc95",
   "metadata": {},
   "outputs": [],
   "source": []
  }
 ],
 "metadata": {
  "kernelspec": {
   "display_name": "Python 3 (ipykernel)",
   "language": "python",
   "name": "python3"
  },
  "language_info": {
   "codemirror_mode": {
    "name": "ipython",
    "version": 3
   },
   "file_extension": ".py",
   "mimetype": "text/x-python",
   "name": "python",
   "nbconvert_exporter": "python",
   "pygments_lexer": "ipython3",
   "version": "3.10.8"
  }
 },
 "nbformat": 4,
 "nbformat_minor": 5
}
